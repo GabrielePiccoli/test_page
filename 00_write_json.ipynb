{
 "cells": [
  {
   "cell_type": "code",
   "execution_count": null,
   "id": "e1ba97e4",
   "metadata": {},
   "outputs": [],
   "source": [
    "import json\n",
    "\n",
    "# Definire i dati direttamente nel codice\n",
    "dati = [\n",
    "    {\"grafico\": \"heatmap_sectors_0\", \"step\": \"0\", \"a\": 0.3553800724, \"b\": 0.03552348499, \"c\": 0.6518568923},\n",
    "    {\"grafico\": \"heatmap_sectors_0\", \"step\": \"1\", \"a\": 0.02361538651, \"b\": 0.5068457766, \"c\": 0.08303720018},\n",
    "    {\"grafico\": \"heatmap_sectors_0\", \"step\": \"2\", \"a\": 0.7035648721, \"b\": 0.4092253363, \"c\": 0.4961264482},\n",
    "    {\"grafico\": \"heatmap_sectors_0\", \"step\": \"3\", \"a\": 0.1593725516, \"b\": 0.9335331769, \"c\": 0.5716358905},\n",
    "    {\"grafico\": \"heatmap_sectors_1\", \"step\": \"0\", \"a\": 0.4813876227, \"b\": 0.01862842088, \"c\": 0.4940417108},\n",
    "    {\"grafico\": \"heatmap_sectors_1\", \"step\": \"1\", \"a\": 0.633667041, \"b\": 0.7155493635, \"c\": 0.1987813779},\n",
    "    {\"grafico\": \"heatmap_sectors_1\", \"step\": \"2\", \"a\": 0.3300456615, \"b\": 0.3885851641, \"c\": 0.5368868123},\n",
    "    {\"grafico\": \"heatmap_sectors_1\", \"step\": \"3\", \"a\": 0.2326249628, \"b\": 0.2514325841, \"c\": 0.8486220444},\n",
    "    {\"grafico\": \"heatmap_sectors_2\", \"step\": \"0\", \"a\": 0.4864308467, \"b\": 0.7307578951, \"c\": 0.5945601015},\n",
    "    {\"grafico\": \"heatmap_sectors_2\", \"step\": \"1\", \"a\": 0.4824571238, \"b\": 0.3110057291, \"c\": 0.1184512605},\n",
    "    {\"grafico\": \"heatmap_sectors_2\", \"step\": \"2\", \"a\": 0.4454288696, \"b\": 0.5646171677, \"c\": 0.2798607174},\n",
    "    {\"grafico\": \"heatmap_sectors_2\", \"step\": \"3\", \"a\": 0.2612333948, \"b\": 0.5172150999, \"c\": 0.6018327047},\n",
    "    {\"grafico\": \"heatmap_sectors_3\", \"step\": \"0\", \"a\": 0.6565405745, \"b\": 0.5738445792, \"c\": 0.5712019168},\n",
    "    {\"grafico\": \"heatmap_sectors_3\", \"step\": \"1\", \"a\": 0.7223212094, \"b\": 0.02504632146, \"c\": 0.2218823132},\n",
    "    {\"grafico\": \"heatmap_sectors_3\", \"step\": \"2\", \"a\": 0.3997667524, \"b\": 0.2668260579, \"c\": 0.7957996263},\n",
    "    {\"grafico\": \"heatmap_sectors_3\", \"step\": \"3\", \"a\": 0.2987682049, \"b\": 0.4450945754, \"c\": 0.07559074216},\n",
    "    {\"grafico\": \"grafico_1\", \"step\": \"0\", \"a\": 0.4712058042, \"b\": 0.7343209259, \"c\": 0.6300832711},\n",
    "    {\"grafico\": \"grafico_2\", \"step\": \"0\", \"a\": 0.4366356101, \"b\": 0.5842109767, \"c\": 0.01869050901},\n",
    "    {\"grafico\": \"grafico_3\", \"step\": \"0\", \"a\": 0.116160559, \"b\": 0.5096454964, \"c\": 0.2451421107},\n",
    "    {\"grafico\": \"grafico_4\", \"step\": \"0\", \"a\": 0.2832958466, \"b\": 0.7314134569, \"c\": 0.1142520799}\n",
    "]\n",
    "\n",
    "# Salvataggio in un file JSON\n",
    "with open('grafici.json', 'w', encoding='utf-8') as f:\n",
    "    json.dump(dati, f, ensure_ascii=False, indent=2)\n",
    "\n",
    "print(\"✅ Il file 'grafici.json' è stato creato con successo.\")\n"
   ]
  }
 ],
 "metadata": {
  "language_info": {
   "name": "python"
  }
 },
 "nbformat": 4,
 "nbformat_minor": 5
}
